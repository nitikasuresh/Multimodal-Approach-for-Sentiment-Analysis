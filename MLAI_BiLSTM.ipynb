{
 "cells": [
  {
   "cell_type": "code",
   "execution_count": null,
   "metadata": {
    "id": "IiFRUFnWwqyn"
   },
   "outputs": [],
   "source": []
  },
  {
   "cell_type": "code",
   "execution_count": 2,
   "metadata": {
    "id": "YlQmAP9v3zZM"
   },
   "outputs": [],
   "source": [
    "import pandas as pd \n",
    "import numpy as np \n",
    "from sklearn.model_selection import train_test_split\n",
    "import keras\n",
    "import tensorflow as tf\n",
    "from tensorflow.keras.layers import LSTM, Dense,Dropout, Bidirectional\n",
    "from tensorflow.keras.optimizers import Adam\n"
   ]
  },
  {
   "cell_type": "code",
   "execution_count": 3,
   "metadata": {
    "colab": {
     "base_uri": "https://localhost:8080/"
    },
    "id": "v4pRTE4-XRZD",
    "outputId": "f25a50cc-de88-437c-f88c-d84f63bb90cd"
   },
   "outputs": [
    {
     "name": "stdout",
     "output_type": "stream",
     "text": [
      "Mounted at /content/drive\n"
     ]
    }
   ],
   "source": [
    "from google.colab import drive\n",
    "drive.mount('/content/drive')"
   ]
  },
  {
   "cell_type": "code",
   "execution_count": 4,
   "metadata": {
    "colab": {
     "base_uri": "https://localhost:8080/"
    },
    "id": "2msFMh6933bx",
    "outputId": "74fc7bc1-b2d0-4504-a686-9c5fa9cdd0cf"
   },
   "outputs": [
    {
     "name": "stdout",
     "output_type": "stream",
     "text": [
      "(13708, 1435)\n",
      "(13708, 1435)\n"
     ]
    }
   ],
   "source": [
    "# train  = pd.read_csv('train_merged_compare.csv')\n",
    "# test = pd.read_csv('test_merged_compare.csv')\n",
    "data = pd.read_csv('audio_features.csv')\n",
    "print(data.values.shape)\n",
    "data = np.asarray(data)\n",
    "print(data.shape)\n"
   ]
  },
  {
   "cell_type": "code",
   "execution_count": 5,
   "metadata": {
    "colab": {
     "base_uri": "https://localhost:8080/"
    },
    "id": "9oihMOka39Ig",
    "outputId": "e2efac0d-58dd-4949-bf3c-bb757cabe5bc"
   },
   "outputs": [
    {
     "name": "stdout",
     "output_type": "stream",
     "text": [
      "(13708, 1422)\n",
      "(13708,)\n",
      "(13708,)\n"
     ]
    }
   ],
   "source": [
    "# nptrain = np.asarray(train)\n",
    "# nptest = np.asarray(test)\n",
    "data_x = data[:,13:]\n",
    "print(data_x.shape)\n",
    "labels_sentiment = data[:,5]\n",
    "print(labels_sentiment.shape)\n",
    "labels_emotions  = data[:,4]\n",
    "print(labels_emotions.shape)"
   ]
  },
  {
   "cell_type": "code",
   "execution_count": null,
   "metadata": {
    "id": "ealmCvNOXF4m"
   },
   "outputs": [],
   "source": []
  },
  {
   "cell_type": "code",
   "execution_count": 6,
   "metadata": {
    "id": "j823ke5O4AdJ"
   },
   "outputs": [],
   "source": [
    "# X_train = nptrain[:,13:]\n",
    "# X_test = nptest[:,13:]\n",
    "# Y_train = nptrain[:,5]\n",
    "# Y_test = nptest[:,5]\n",
    "\n",
    "X_train, X_test, Y_train, Y_test = train_test_split(data_x, labels_sentiment, test_size=0.2, random_state=42)"
   ]
  },
  {
   "cell_type": "code",
   "execution_count": 7,
   "metadata": {
    "colab": {
     "base_uri": "https://localhost:8080/"
    },
    "id": "JM82tQiZ4NXt",
    "outputId": "5d56cdee-7b0b-45c1-c312-9864ce0b353b"
   },
   "outputs": [
    {
     "name": "stdout",
     "output_type": "stream",
     "text": [
      "(10966, 1422)\n",
      "(2742, 1422)\n",
      "[0 0 1 0 1 2 0 1 0 0]\n",
      "[2 2 0 0 2 1 1 2 0 0]\n"
     ]
    }
   ],
   "source": [
    "print(X_train.shape)\n",
    "print(X_test.shape)\n",
    "print(Y_train[0:10])\n",
    "print(Y_test[0:10])\n",
    "Y_train_enc = []"
   ]
  },
  {
   "cell_type": "code",
   "execution_count": 11,
   "metadata": {
    "id": "qaINVP_M4GSy"
   },
   "outputs": [],
   "source": []
  },
  {
   "cell_type": "code",
   "execution_count": 12,
   "metadata": {
    "id": "oWJYL7JA4RJk"
   },
   "outputs": [],
   "source": []
  },
  {
   "cell_type": "code",
   "execution_count": 13,
   "metadata": {
    "id": "O4Ht1g_H4VsM"
   },
   "outputs": [],
   "source": []
  },
  {
   "cell_type": "code",
   "execution_count": 14,
   "metadata": {
    "id": "D8_voR5Z42ra"
   },
   "outputs": [],
   "source": []
  },
  {
   "cell_type": "code",
   "execution_count": 15,
   "metadata": {
    "id": "LxjgKzq95eNJ"
   },
   "outputs": [],
   "source": []
  },
  {
   "cell_type": "code",
   "execution_count": 8,
   "metadata": {
    "colab": {
     "base_uri": "https://localhost:8080/"
    },
    "id": "qF3ureOr7j7-",
    "outputId": "009d7fca-de87-4960-c791-97d1a06a3ef9"
   },
   "outputs": [
    {
     "name": "stdout",
     "output_type": "stream",
     "text": [
      "(10966, 3)\n",
      "(2742, 3)\n"
     ]
    }
   ],
   "source": [
    "y_train = tf.keras.utils.to_categorical(Y_train,3)\n",
    "y_test = tf.keras.utils.to_categorical(Y_test,3)\n",
    "print(y_train.shape)\n",
    "print(y_test.shape)"
   ]
  },
  {
   "cell_type": "code",
   "execution_count": null,
   "metadata": {
    "id": "fW7naFl2QVvf"
   },
   "outputs": [],
   "source": []
  },
  {
   "cell_type": "code",
   "execution_count": 22,
   "metadata": {
    "id": "MGEWqE1h2wap"
   },
   "outputs": [],
   "source": [
    "input_shape=(711,2)\n",
    "model = keras.Sequential()\n",
    "model.add(Bidirectional(LSTM(711,input_shape=input_shape)))\n",
    "model.add(Dropout(0.2))\n",
    "model.add(Dense(88, activation='relu'))\n",
    "model.add(Dense(64, activation='relu'))\n",
    "model.add(Dropout(0.4))\n",
    "model.add(Dense(48, activation='relu'))\n",
    "model.add(Dropout(0.4))\n",
    "model.add(Dense(24, activation='relu'))\n",
    "model.add(Dense(3, activation='softmax'))\n",
    "adam = Adam(learning_rate=0.001)\n",
    "model.compile(\n",
    "    loss=tf.keras.losses.CategoricalCrossentropy(), \n",
    "    optimizer=adam, \n",
    "    metrics=['accuracy']\n",
    ")\n",
    "# model.summary()\n"
   ]
  },
  {
   "cell_type": "code",
   "execution_count": 18,
   "metadata": {
    "id": "6N6RKg5J57wI"
   },
   "outputs": [],
   "source": [
    "# model.compile(optimizer='adam',loss='CategoricalCrossentropy',metrics=['acc'])"
   ]
  },
  {
   "cell_type": "code",
   "execution_count": 23,
   "metadata": {
    "colab": {
     "base_uri": "https://localhost:8080/"
    },
    "id": "oISDy7Go8Dy8",
    "outputId": "acf12907-1c0f-481f-9790-ec1b3dac2fb0"
   },
   "outputs": [
    {
     "name": "stdout",
     "output_type": "stream",
     "text": [
      "(9184, 711, 2)\n"
     ]
    }
   ],
   "source": [
    "X_train = np.asarray(X_train.reshape(9184,711,2)).astype('float32')\n",
    "print(X_train.shape)"
   ]
  },
  {
   "cell_type": "code",
   "execution_count": 24,
   "metadata": {
    "colab": {
     "base_uri": "https://localhost:8080/"
    },
    "id": "I9cwh0n97SUJ",
    "outputId": "dc157e4c-82e1-456b-b3b3-70d8c6f0f5cf",
    "scrolled": true
   },
   "outputs": [
    {
     "name": "stdout",
     "output_type": "stream",
     "text": [
      "72/72 [==============================] - 3069s 42s/step - loss: 1.0646 - accuracy: 0.4656\n"
     ]
    }
   ],
   "source": [
    "history = model.fit(X_train, y_train, epochs=1, batch_size=128, shuffle=False)"
   ]
  },
  {
   "cell_type": "code",
   "execution_count": 25,
   "metadata": {
    "colab": {
     "base_uri": "https://localhost:8080/"
    },
    "id": "HXdYJRT9Qb0P",
    "outputId": "738031f7-ca56-483c-b2a8-9371e3700d93"
   },
   "outputs": [
    {
     "name": "stdout",
     "output_type": "stream",
     "text": [
      "142/142 [==============================] - 540s 4s/step - loss: 1.0569 - accuracy: 0.4695\n"
     ]
    }
   ],
   "source": [
    "score = model.evaluate(X_test.reshape(4524,711,2).astype('float32'), y_test)"
   ]
  },
  {
   "cell_type": "code",
   "execution_count": null,
   "metadata": {
    "colab": {
     "base_uri": "https://localhost:8080/"
    },
    "id": "XbIJBLjYQcvg",
    "outputId": "e2b72c0a-a556-4d0e-b372-4ba30ec720ff"
   },
   "outputs": [
    {
     "data": {
      "text/plain": [
       "37271.59"
      ]
     },
     "execution_count": 50,
     "metadata": {},
     "output_type": "execute_result"
    }
   ],
   "source": []
  },
  {
   "cell_type": "code",
   "execution_count": null,
   "metadata": {
    "id": "eoZe6254SIOs"
   },
   "outputs": [],
   "source": []
  }
 ],
 "metadata": {
  "colab": {
   "collapsed_sections": [],
   "name": "MLAI-BiLSTM.ipynb",
   "provenance": []
  },
  "kernelspec": {
   "display_name": "Python 3 (ipykernel)",
   "language": "python",
   "name": "python3"
  },
  "language_info": {
   "codemirror_mode": {
    "name": "ipython",
    "version": 3
   },
   "file_extension": ".py",
   "mimetype": "text/x-python",
   "name": "python",
   "nbconvert_exporter": "python",
   "pygments_lexer": "ipython3",
   "version": "3.7.11"
  }
 },
 "nbformat": 4,
 "nbformat_minor": 4
}
