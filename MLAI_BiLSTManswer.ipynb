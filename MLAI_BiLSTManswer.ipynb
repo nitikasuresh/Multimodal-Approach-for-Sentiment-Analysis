{
 "cells": [
  {
   "cell_type": "code",
   "execution_count": 1,
   "id": "aa228583",
   "metadata": {
    "collapsed": false,
    "id": "IiFRUFnWwqyn",
    "jupyter": {
     "outputs_hidden": false
    }
   },
   "outputs": [],
   "source": []
  },
  {
   "cell_type": "code",
   "execution_count": 1,
   "id": "e79ad999",
   "metadata": {
    "collapsed": false,
    "id": "YlQmAP9v3zZM",
    "jupyter": {
     "outputs_hidden": false
    }
   },
   "outputs": [],
   "source": [
    "import pandas as pd \n",
    "import numpy as np \n",
    "from sklearn.model_selection import train_test_split\n",
    "import keras\n",
    "import tensorflow as tf\n",
    "from tensorflow.keras.layers import LSTM, Dense,Dropout, Bidirectional\n",
    "from tensorflow.keras.optimizers import Adam\n"
   ]
  },
  {
   "cell_type": "code",
   "execution_count": 2,
   "id": "d0fd4293",
   "metadata": {
    "colab": {
     "base_uri": "https://localhost:8080/"
    },
    "collapsed": false,
    "id": "v4pRTE4-XRZD",
    "jupyter": {
     "outputs_hidden": false
    },
    "outputId": "f25a50cc-de88-437c-f88c-d84f63bb90cd"
   },
   "outputs": [],
   "source": [
    "#from google.colab import drive\n",
    "#drive.mount('/content/drive')"
   ]
  },
  {
   "cell_type": "code",
   "execution_count": 3,
   "id": "45e8539f",
   "metadata": {
    "colab": {
     "base_uri": "https://localhost:8080/"
    },
    "collapsed": false,
    "id": "2msFMh6933bx",
    "jupyter": {
     "outputs_hidden": false
    },
    "outputId": "74fc7bc1-b2d0-4504-a686-9c5fa9cdd0cf"
   },
   "outputs": [
    {
     "name": "stdout",
     "output_type": "stream",
     "text": [
      "(13708, 1435)\n",
      "(13708, 1435)\n"
     ]
    }
   ],
   "source": [
    "# train  = pd.read_csv('train_merged_compare.csv')\n",
    "# test = pd.read_csv('test_merged_compare.csv')\n",
    "data = pd.read_csv('audio_features.csv')\n",
    "print(data.values.shape)\n",
    "data = np.asarray(data)\n",
    "print(data.shape)\n"
   ]
  },
  {
   "cell_type": "code",
   "execution_count": 4,
   "id": "64b3a1c4",
   "metadata": {
    "colab": {
     "base_uri": "https://localhost:8080/"
    },
    "collapsed": false,
    "id": "9oihMOka39Ig",
    "jupyter": {
     "outputs_hidden": false
    },
    "outputId": "e2efac0d-58dd-4949-bf3c-bb757cabe5bc"
   },
   "outputs": [
    {
     "name": "stdout",
     "output_type": "stream",
     "text": [
      "(13708, 1422)\n",
      "(13708,)\n",
      "(13708,)\n"
     ]
    }
   ],
   "source": [
    "# nptrain = np.asarray(train)\n",
    "# nptest = np.asarray(test)\n",
    "data_x = data[:,13:]\n",
    "print(data_x.shape)\n",
    "labels_sentiment = data[:,5]\n",
    "print(labels_sentiment.shape)\n",
    "labels_emotions  = data[:,4]\n",
    "print(labels_emotions.shape)"
   ]
  },
  {
   "cell_type": "code",
   "execution_count": 5,
   "id": "353cb697",
   "metadata": {
    "collapsed": false,
    "id": "ealmCvNOXF4m",
    "jupyter": {
     "outputs_hidden": false
    }
   },
   "outputs": [],
   "source": []
  },
  {
   "cell_type": "code",
   "execution_count": 5,
   "id": "beb4aea7",
   "metadata": {
    "collapsed": false,
    "id": "j823ke5O4AdJ",
    "jupyter": {
     "outputs_hidden": false
    }
   },
   "outputs": [],
   "source": [
    "# X_train = nptrain[:,13:]\n",
    "# X_test = nptest[:,13:]\n",
    "# Y_train = nptrain[:,5]\n",
    "# Y_test = nptest[:,5]\n",
    "\n",
    "X_train, X_test, Y_train, Y_test = train_test_split(data_x, labels_sentiment, test_size=0.2, random_state=42)"
   ]
  },
  {
   "cell_type": "code",
   "execution_count": 6,
   "id": "fdbf29a7",
   "metadata": {
    "colab": {
     "base_uri": "https://localhost:8080/"
    },
    "collapsed": false,
    "id": "JM82tQiZ4NXt",
    "jupyter": {
     "outputs_hidden": false
    },
    "outputId": "5d56cdee-7b0b-45c1-c312-9864ce0b353b"
   },
   "outputs": [
    {
     "name": "stdout",
     "output_type": "stream",
     "text": [
      "(10966, 1422)\n",
      "(2742, 1422)\n",
      "[0 0 1 0 1 2 0 1 0 0]\n",
      "[2 2 0 0 2 1 1 2 0 0]\n"
     ]
    }
   ],
   "source": [
    "print(X_train.shape)\n",
    "print(X_test.shape)\n",
    "print(Y_train[0:10])\n",
    "print(Y_test[0:10])\n",
    "Y_train_enc = []"
   ]
  },
  {
   "cell_type": "code",
   "execution_count": 7,
   "id": "f4700fbf",
   "metadata": {
    "collapsed": false,
    "id": "qaINVP_M4GSy",
    "jupyter": {
     "outputs_hidden": false
    }
   },
   "outputs": [],
   "source": []
  },
  {
   "cell_type": "code",
   "execution_count": 7,
   "id": "64b78dfe",
   "metadata": {
    "collapsed": false,
    "id": "oWJYL7JA4RJk",
    "jupyter": {
     "outputs_hidden": false
    }
   },
   "outputs": [],
   "source": []
  },
  {
   "cell_type": "code",
   "execution_count": 7,
   "id": "a1201cd4",
   "metadata": {
    "collapsed": false,
    "id": "O4Ht1g_H4VsM",
    "jupyter": {
     "outputs_hidden": false
    }
   },
   "outputs": [],
   "source": []
  },
  {
   "cell_type": "code",
   "execution_count": 7,
   "id": "61395453",
   "metadata": {
    "collapsed": false,
    "id": "D8_voR5Z42ra",
    "jupyter": {
     "outputs_hidden": false
    }
   },
   "outputs": [],
   "source": []
  },
  {
   "cell_type": "code",
   "execution_count": 7,
   "id": "090471c8",
   "metadata": {
    "collapsed": false,
    "id": "LxjgKzq95eNJ",
    "jupyter": {
     "outputs_hidden": false
    }
   },
   "outputs": [],
   "source": []
  },
  {
   "cell_type": "code",
   "execution_count": 7,
   "id": "a85a6176",
   "metadata": {
    "colab": {
     "base_uri": "https://localhost:8080/"
    },
    "collapsed": false,
    "id": "qF3ureOr7j7-",
    "jupyter": {
     "outputs_hidden": false
    },
    "outputId": "009d7fca-de87-4960-c791-97d1a06a3ef9"
   },
   "outputs": [
    {
     "name": "stdout",
     "output_type": "stream",
     "text": [
      "(10966, 3)\n",
      "(2742, 3)\n"
     ]
    }
   ],
   "source": [
    "y_train = tf.keras.utils.to_categorical(Y_train,3)\n",
    "y_test = tf.keras.utils.to_categorical(Y_test,3)\n",
    "print(y_train.shape)\n",
    "print(y_test.shape)"
   ]
  },
  {
   "cell_type": "code",
   "execution_count": 13,
   "id": "ec45e2f1",
   "metadata": {
    "collapsed": false,
    "id": "fW7naFl2QVvf",
    "jupyter": {
     "outputs_hidden": false
    }
   },
   "outputs": [
    {
     "name": "stdout",
     "output_type": "stream",
     "text": [
      "Model: \"sequential_11\"\n",
      "_________________________________________________________________\n",
      " Layer (type)                Output Shape              Param #   \n",
      "=================================================================\n",
      " bidirectional_11 (Bidirecti  (10966, 1422)            4061232   \n",
      " onal)                                                           \n",
      "                                                                 \n",
      " dropout_33 (Dropout)        (10966, 1422)             0         \n",
      "                                                                 \n",
      " dense_55 (Dense)            (10966, 88)               125224    \n",
      "                                                                 \n",
      " dense_56 (Dense)            (10966, 64)               5696      \n",
      "                                                                 \n",
      " dropout_34 (Dropout)        (10966, 64)               0         \n",
      "                                                                 \n",
      " dense_57 (Dense)            (10966, 48)               3120      \n",
      "                                                                 \n",
      " dropout_35 (Dropout)        (10966, 48)               0         \n",
      "                                                                 \n",
      " dense_58 (Dense)            (10966, 24)               1176      \n",
      "                                                                 \n",
      " dense_59 (Dense)            (10966, 3)                75        \n",
      "                                                                 \n",
      "=================================================================\n",
      "Total params: 4,196,523\n",
      "Trainable params: 4,196,523\n",
      "Non-trainable params: 0\n",
      "_________________________________________________________________\n",
      "None\n"
     ]
    }
   ],
   "source": [
    "from torchsummary import summary\n",
    "input_shape=(711,2)\n",
    "model = keras.Sequential()\n",
    "model.add(Bidirectional(LSTM(711,input_shape=input_shape)))\n",
    "model.add(Dropout(0.2))\n",
    "model.add(Dense(88, activation='relu'))\n",
    "model.add(Dense(64, activation='relu'))\n",
    "model.add(Dropout(0.4))\n",
    "model.add(Dense(48, activation='relu'))\n",
    "model.add(Dropout(0.4))\n",
    "model.add(Dense(24, activation='relu'))\n",
    "model.add(Dense(3, activation='softmax'))\n",
    "adam = Adam(learning_rate=0.001)\n",
    "model.compile(\n",
    "    loss=tf.keras.losses.CategoricalCrossentropy(), \n",
    "    optimizer=adam, \n",
    "    metrics=['accuracy']\n",
    ")\n",
    "model.build(input_shape=(10966,711,2))\n",
    "print(model.summary())"
   ]
  },
  {
   "cell_type": "code",
   "execution_count": 8,
   "id": "96a3d7a4",
   "metadata": {
    "collapsed": false,
    "id": "MGEWqE1h2wap",
    "jupyter": {
     "outputs_hidden": false
    }
   },
   "outputs": [
    {
     "name": "stderr",
     "output_type": "stream",
     "text": [
      "2021-12-04 18:36:52.735576: I tensorflow/core/platform/cpu_feature_guard.cc:142] This TensorFlow binary is optimized with oneAPI Deep Neural Network Library (oneDNN) to use the following CPU instructions in performance-critical operations:  AVX2 AVX512F FMA\n",
      "To enable them in other operations, rebuild TensorFlow with the appropriate compiler flags.\n",
      "2021-12-04 18:36:58.099313: I tensorflow/core/common_runtime/gpu/gpu_device.cc:1510] Created device /job:localhost/replica:0/task:0/device:GPU:0 with 22694 MB memory:  -> device: 0, name: NVIDIA Quadro RTX 6000, pci bus id: 0000:1a:00.0, compute capability: 7.5\n",
      "2021-12-04 18:36:58.101888: I tensorflow/core/common_runtime/gpu/gpu_device.cc:1510] Created device /job:localhost/replica:0/task:0/device:GPU:1 with 22853 MB memory:  -> device: 1, name: NVIDIA Quadro RTX 6000, pci bus id: 0000:1c:00.0, compute capability: 7.5\n",
      "2021-12-04 18:36:58.103670: I tensorflow/core/common_runtime/gpu/gpu_device.cc:1510] Created device /job:localhost/replica:0/task:0/device:GPU:2 with 22853 MB memory:  -> device: 2, name: NVIDIA Quadro RTX 6000, pci bus id: 0000:1d:00.0, compute capability: 7.5\n",
      "2021-12-04 18:36:58.105575: I tensorflow/core/common_runtime/gpu/gpu_device.cc:1510] Created device /job:localhost/replica:0/task:0/device:GPU:3 with 22853 MB memory:  -> device: 3, name: NVIDIA Quadro RTX 6000, pci bus id: 0000:1e:00.0, compute capability: 7.5\n",
      "2021-12-04 18:36:58.107446: I tensorflow/core/common_runtime/gpu/gpu_device.cc:1510] Created device /job:localhost/replica:0/task:0/device:GPU:4 with 22853 MB memory:  -> device: 4, name: NVIDIA Quadro RTX 6000, pci bus id: 0000:3d:00.0, compute capability: 7.5\n",
      "2021-12-04 18:36:58.109368: I tensorflow/core/common_runtime/gpu/gpu_device.cc:1510] Created device /job:localhost/replica:0/task:0/device:GPU:5 with 22853 MB memory:  -> device: 5, name: NVIDIA Quadro RTX 6000, pci bus id: 0000:3f:00.0, compute capability: 7.5\n",
      "2021-12-04 18:36:58.111779: I tensorflow/core/common_runtime/gpu/gpu_device.cc:1510] Created device /job:localhost/replica:0/task:0/device:GPU:6 with 22853 MB memory:  -> device: 6, name: NVIDIA Quadro RTX 6000, pci bus id: 0000:40:00.0, compute capability: 7.5\n",
      "2021-12-04 18:36:58.114250: I tensorflow/core/common_runtime/gpu/gpu_device.cc:1510] Created device /job:localhost/replica:0/task:0/device:GPU:7 with 22853 MB memory:  -> device: 7, name: NVIDIA Quadro RTX 6000, pci bus id: 0000:41:00.0, compute capability: 7.5\n"
     ]
    }
   ],
   "source": [
    "input_shape=(711,2)\n",
    "model = keras.Sequential()\n",
    "model.add(Bidirectional(LSTM(711,input_shape=input_shape)))\n",
    "model.add(Dropout(0.2))\n",
    "model.add(Dense(88, activation='relu'))\n",
    "model.add(Dense(64, activation='relu'))\n",
    "model.add(Dropout(0.4))\n",
    "model.add(Dense(48, activation='relu'))\n",
    "model.add(Dropout(0.4))\n",
    "model.add(Dense(24, activation='relu'))\n",
    "model.add(Dense(3, activation='softmax'))\n",
    "adam = Adam(learning_rate=0.001)\n",
    "model.compile(\n",
    "    loss=tf.keras.losses.CategoricalCrossentropy(), \n",
    "    optimizer=adam, \n",
    "    metrics=['accuracy']\n",
    ")\n",
    "# model.summary()\n"
   ]
  },
  {
   "cell_type": "code",
   "execution_count": 9,
   "id": "390558af",
   "metadata": {
    "collapsed": false,
    "id": "6N6RKg5J57wI",
    "jupyter": {
     "outputs_hidden": false
    }
   },
   "outputs": [],
   "source": [
    "# model.compile(optimizer='adam',loss='CategoricalCrossentropy',metrics=['acc'])"
   ]
  },
  {
   "cell_type": "code",
   "execution_count": 10,
   "id": "bccb6d8b",
   "metadata": {
    "colab": {
     "base_uri": "https://localhost:8080/"
    },
    "collapsed": false,
    "id": "oISDy7Go8Dy8",
    "jupyter": {
     "outputs_hidden": false
    },
    "outputId": "acf12907-1c0f-481f-9790-ec1b3dac2fb0"
   },
   "outputs": [
    {
     "name": "stdout",
     "output_type": "stream",
     "text": [
      "(10966, 711, 2)\n"
     ]
    }
   ],
   "source": [
    "X_train = np.asarray(X_train.reshape(10966,711,2)).astype('float32')\n",
    "print(X_train.shape)"
   ]
  },
  {
   "cell_type": "code",
   "execution_count": 11,
   "id": "d910375c",
   "metadata": {
    "colab": {
     "base_uri": "https://localhost:8080/"
    },
    "collapsed": false,
    "id": "I9cwh0n97SUJ",
    "jupyter": {
     "outputs_hidden": false
    },
    "outputId": "dc157e4c-82e1-456b-b3b3-70d8c6f0f5cf",
    "scrolled": true
   },
   "outputs": [
    {
     "name": "stderr",
     "output_type": "stream",
     "text": [
      "2021-12-04 18:37:00.480623: I tensorflow/compiler/mlir/mlir_graph_optimization_pass.cc:185] None of the MLIR Optimization Passes are enabled (registered 2)\n"
     ]
    },
    {
     "name": "stdout",
     "output_type": "stream",
     "text": [
      "Epoch 1/10\n"
     ]
    },
    {
     "name": "stderr",
     "output_type": "stream",
     "text": [
      "2021-12-04 18:37:04.313768: I tensorflow/stream_executor/cuda/cuda_dnn.cc:369] Loaded cuDNN version 8300\n"
     ]
    },
    {
     "name": "stdout",
     "output_type": "stream",
     "text": [
      "86/86 [==============================] - 31s 307ms/step - loss: 1.0639 - accuracy: 0.4655\n",
      "Epoch 2/10\n",
      "86/86 [==============================] - 27s 313ms/step - loss: 1.0563 - accuracy: 0.4689\n",
      "Epoch 3/10\n",
      "86/86 [==============================] - 27s 316ms/step - loss: 1.0555 - accuracy: 0.4687\n",
      "Epoch 4/10\n",
      "86/86 [==============================] - 27s 317ms/step - loss: 1.0551 - accuracy: 0.4688\n",
      "Epoch 5/10\n",
      "86/86 [==============================] - 27s 317ms/step - loss: 1.0541 - accuracy: 0.4688\n",
      "Epoch 6/10\n",
      "86/86 [==============================] - 27s 317ms/step - loss: 1.0531 - accuracy: 0.4688\n",
      "Epoch 7/10\n",
      "86/86 [==============================] - 27s 318ms/step - loss: 1.0520 - accuracy: 0.4688\n",
      "Epoch 8/10\n",
      "86/86 [==============================] - 27s 318ms/step - loss: 1.0517 - accuracy: 0.4675\n",
      "Epoch 9/10\n",
      "86/86 [==============================] - 27s 317ms/step - loss: 1.0634 - accuracy: 0.4618\n",
      "Epoch 10/10\n",
      "86/86 [==============================] - 27s 318ms/step - loss: 1.0547 - accuracy: 0.4686\n"
     ]
    }
   ],
   "source": [
    "history = model.fit(X_train, y_train, epochs=10, batch_size=128, shuffle=False)"
   ]
  },
  {
   "cell_type": "code",
   "execution_count": 12,
   "id": "d96607ac",
   "metadata": {
    "colab": {
     "base_uri": "https://localhost:8080/"
    },
    "collapsed": false,
    "id": "HXdYJRT9Qb0P",
    "jupyter": {
     "outputs_hidden": false
    },
    "outputId": "738031f7-ca56-483c-b2a8-9371e3700d93"
   },
   "outputs": [
    {
     "name": "stdout",
     "output_type": "stream",
     "text": [
      "86/86 [==============================] - 6s 65ms/step - loss: 1.0514 - accuracy: 0.4723\n"
     ]
    }
   ],
   "source": [
    "score = model.evaluate(X_test.reshape(2742,711,2).astype('float32'), y_test)"
   ]
  },
  {
   "cell_type": "code",
   "execution_count": 13,
   "id": "89ca30d7",
   "metadata": {
    "colab": {
     "base_uri": "https://localhost:8080/"
    },
    "collapsed": false,
    "id": "XbIJBLjYQcvg",
    "jupyter": {
     "outputs_hidden": false
    },
    "outputId": "e2b72c0a-a556-4d0e-b372-4ba30ec720ff"
   },
   "outputs": [],
   "source": []
  },
  {
   "cell_type": "code",
   "execution_count": 13,
   "id": "5b418635",
   "metadata": {
    "collapsed": false,
    "id": "eoZe6254SIOs",
    "jupyter": {
     "outputs_hidden": false
    }
   },
   "outputs": [],
   "source": []
  }
 ],
 "metadata": {
  "colab": {
   "collapsed_sections": [],
   "name": "MLAI-BiLSTM.ipynb",
   "provenance": []
  },
  "kernelspec": {
   "display_name": "Python 3 (ipykernel)",
   "language": "python",
   "name": "python3"
  },
  "language_info": {
   "codemirror_mode": {
    "name": "ipython",
    "version": 3
   },
   "file_extension": ".py",
   "mimetype": "text/x-python",
   "name": "python",
   "nbconvert_exporter": "python",
   "pygments_lexer": "ipython3",
   "version": "3.7.11"
  }
 },
 "nbformat": 4,
 "nbformat_minor": 5
}
