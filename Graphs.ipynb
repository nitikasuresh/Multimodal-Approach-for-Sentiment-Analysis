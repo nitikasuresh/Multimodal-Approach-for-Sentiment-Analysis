{
 "cells": [
  {
   "cell_type": "markdown",
   "id": "263639df-eaba-43f7-84a8-8397eb184cda",
   "metadata": {},
   "source": [
    "#### Emotion Text"
   ]
  },
  {
   "cell_type": "code",
   "execution_count": 31,
   "id": "7e46d21c-5131-4b0f-b53c-11f0ec5ce090",
   "metadata": {
    "tags": []
   },
   "outputs": [],
   "source": [
    "menMeans = (47.44, 48.28, 44.45, 46.93)\n",
    "womenMeans = (49.67, 49.59, 46.97, 48.57)"
   ]
  },
  {
   "cell_type": "code",
   "execution_count": 37,
   "id": "a1eff339-f4ec-4787-b92d-76cd9d39be0c",
   "metadata": {},
   "outputs": [],
   "source": [
    "#Sentiment Text\n",
    "menMeans = (49.27, 50.25, 48.39, 46.97)\n",
    "womenMeans = (53.57, 54.44, 52.69, 51.67)"
   ]
  },
  {
   "cell_type": "code",
   "execution_count": 43,
   "id": "99324655-dfaa-41aa-b0cd-382bb3061139",
   "metadata": {},
   "outputs": [],
   "source": [
    "menMeans = (55.9, 48.57, 54.19, 57.62)\n",
    "womenMeans = (52.15, 48.28, 56.34, 59.29)"
   ]
  },
  {
   "cell_type": "code",
   "execution_count": 102,
   "id": "6bf74932-5ad9-43d9-8f9d-cb99dd20ed4d",
   "metadata": {},
   "outputs": [],
   "source": [
    "menMeans = (60.79, 51.96, 59.88, 62.69)\n",
    "womenMeans = (59.00, 50.94, 60.24, 65.46)"
   ]
  },
  {
   "cell_type": "code",
   "execution_count": 96,
   "id": "5e2b293c-5e76-4750-9d08-41e4c214a71b",
   "metadata": {},
   "outputs": [],
   "source": [
    "menMeans = (38.36, 32.96, 48.21, 47.81)\n",
    "womenMeans = (43.83, 30.74, 48.65, 49.27)"
   ]
  },
  {
   "cell_type": "code",
   "execution_count": 49,
   "id": "419ceab1-f514-4319-91cf-cea1a6f13fbb",
   "metadata": {},
   "outputs": [],
   "source": [
    "menMeans = (43.79, 44.04, 51.49, 52.26)\n",
    "womenMeans = (51.49, 41.61, 51.75, 54.08)"
   ]
  },
  {
   "cell_type": "code",
   "execution_count": 54,
   "id": "cb193c37-e98d-42de-8548-7f511a2457eb",
   "metadata": {},
   "outputs": [],
   "source": [
    "menMeans = (52.69, 56.92)\n",
    "womenMeans = (55.54, 60.32)"
   ]
  },
  {
   "cell_type": "code",
   "execution_count": 57,
   "id": "26e8dee9-63b9-4992-8b57-d105f7efab20",
   "metadata": {},
   "outputs": [],
   "source": [
    "menMeans = (58.78, 64.04)\n",
    "womenMeans = (61.12, 67.50)"
   ]
  },
  {
   "cell_type": "code",
   "execution_count": 94,
   "id": "e1de8093-fa0d-4b18-aefc-29c75a7417bc",
   "metadata": {},
   "outputs": [],
   "source": [
    "womenMeans = (63, 53, 58.7, 58.3, 62.5, 52.44)\n",
    "menMeans = (52, 49, 50.7, 50, 56, 49.88)"
   ]
  },
  {
   "cell_type": "code",
   "execution_count": 148,
   "id": "6acc9498-3dfa-493a-8030-b580942665b9",
   "metadata": {
    "tags": []
   },
   "outputs": [],
   "source": [
    "menMeans = (60.79, 51.96, 59.88, 62.29, 62.03)\n",
    "womenMeans = (55.9, 48.57, 54.19, 57.62, 57.09)"
   ]
  },
  {
   "cell_type": "code",
   "execution_count": 1,
   "id": "df107aac-2d00-4a30-8a89-3fc998d5fe9f",
   "metadata": {},
   "outputs": [],
   "source": [
    "menMeans = (59.07, 52.61, 60.34, 57.14, 58.43,54.61)\n",
    "womenMeans = (54.15, 45.98, 54.98, 52.28, 54.86, 46.15)"
   ]
  },
  {
   "cell_type": "code",
   "execution_count": 1,
   "id": "ad72d590-c44e-41d9-aedf-2893f83c1c77",
   "metadata": {},
   "outputs": [],
   "source": [
    "#emotions\n",
    "womenMeans = (63.56, 59.67, 56.90, 56.25, 52.14, 41.09, 47.14)"
   ]
  },
  {
   "cell_type": "code",
   "execution_count": 3,
   "id": "7be9b1d5-0b72-4058-bb8f-3747f588a09b",
   "metadata": {},
   "outputs": [],
   "source": [
    "#Inputdata1\n",
    "menMeans = (50.69, 51.09, 51.24, 47.26)\n",
    "womenMeans = (47.59, 48.21, 48.54, 46.90)"
   ]
  },
  {
   "cell_type": "code",
   "execution_count": 7,
   "id": "c91a43cf-3eec-444c-99eb-64323d949d6a",
   "metadata": {},
   "outputs": [],
   "source": [
    "#Inputdata2\n",
    "menMeans = (49.48, 50.07, 44.53, 46.82)\n",
    "womenMeans = (47.08, 47.95, 47.95, 47.19)"
   ]
  },
  {
   "cell_type": "code",
   "execution_count": 9,
   "id": "4fcbe7e2-12e2-4b01-aa9a-abdf480cc7c9",
   "metadata": {},
   "outputs": [],
   "source": [
    "#Inputdata3\n",
    "menMeans = (60.79, 51.96, 59.88, 62.69, 62.03)\n",
    "womenMeans = (55.94, 58.57, 54.19, 57.6, 54.98)"
   ]
  },
  {
   "cell_type": "code",
   "execution_count": 11,
   "id": "a3efed53-e862-4cce-ba4c-905315b3e22b",
   "metadata": {},
   "outputs": [],
   "source": [
    "#Audiograph1\n",
    "menMeans = (50.75, 51.49, 48.06)\n",
    "womenMeans = (48.77, 48.21, 47.41)"
   ]
  },
  {
   "cell_type": "code",
   "execution_count": 14,
   "id": "bd99787a-e0f9-47e3-be96-3396bfdeb240",
   "metadata": {},
   "outputs": [],
   "source": [
    "#Audiograph2\n",
    "menMeans = (43.79, 44.09, 51.49, 52.20)\n",
    "womenMeans = (38.36, 32.96, 48.21, 47.81)"
   ]
  },
  {
   "cell_type": "code",
   "execution_count": 17,
   "id": "7684c932-6567-4302-85b7-bc3ccdd583a0",
   "metadata": {},
   "outputs": [],
   "source": [
    "#Combinedgraph\n",
    "menMeans = (58.78, 64.04, 60.17)\n",
    "womenMeans = (52.69, 56.92, 53.05)"
   ]
  },
  {
   "cell_type": "code",
   "execution_count": 3,
   "id": "d52ecb7e-2830-4928-a1f5-8290060b3521",
   "metadata": {},
   "outputs": [],
   "source": [
    "#predictiontime\n",
    "womenMeans = (1, 1.9, 63.1, 6881, 1061)"
   ]
  },
  {
   "cell_type": "code",
   "execution_count": 7,
   "id": "9a6b82e5-2ab9-42fe-8aca-fd92e9aa0e04",
   "metadata": {},
   "outputs": [
    {
     "data": {
      "image/png": "[encoded data removed]",
      "text/plain": [
       "<Figure size 504x504 with 1 Axes>"
      ]
     },
     "metadata": {
      "needs_background": "light"
     },
     "output_type": "display_data"
    }
   ],
   "source": [
    "import numpy as np\n",
    "import matplotlib.pyplot as plt\n",
    "\n",
    "N = 5\n",
    "\n",
    "\n",
    "ind = np.arange(N)  # the x locations for the groups\n",
    "width = 0.35      # the width of the bars\n",
    "\n",
    "fig = plt.figure(figsize = (7., 7.))\n",
    "ax = fig.add_subplot(111)\n",
    "#rects1 = ax.bar(ind, menMeans, width, color='orange')#, yerr=menStd)\n",
    "#menStd = ()\n",
    "\n",
    "#womenStd =   (3, 5, 2, 3)\n",
    "rects2 = ax.bar(ind+width, womenMeans, width, color='blue')#, yerr=womenStd)\n",
    "\n",
    "labels = ['L Regression ', 'Naive Bayes', 'Random Forest', 'SV Classifier', 'MLP']\n",
    "#labels = ['neutral', 'surprise', 'fear', 'sadness', 'joy', 'disgust', 'anger']\n",
    "# add some\n",
    "ax.set_ylabel('Time taken(ms)')\n",
    "ax.set_title('Inference time for 2742 samples')\n",
    "ax.set_xticks(ind + width/2)\n",
    "#ax.set_ylim((0, 80))\n",
    "#ax.set_xticklabels( ('LR', 'NB','RF', 'SVC') )\n",
    "ax.set_xticklabels( ('L Regression ', 'Naive Bayes', 'Random Forest', 'SV Classifier', 'MLP') )\n",
    "# for index, value in enumerate(womenMeans):\n",
    "#     ax.text(value, index, str(value))\n",
    "# rects = ax.patches\n",
    "# for rect, label in zip(rects, labels):\n",
    "#     height = rect.get_height()\n",
    "#     ax.text(\n",
    "#         rect.get_x() + rect.get_width() / 2, height + 2, height, ha=\"center\", va=\"bottom\"\n",
    "#    )\n",
    "    \n",
    "for rect, label in zip(rects2, labels):\n",
    "    height = rect.get_height()\n",
    "    ax.text(\n",
    "        rect.get_x() + rect.get_width() / 2, height + 2, height, ha=\"center\", va=\"bottom\"\n",
    "    )\n",
    "\n",
    "\n",
    "#ax.legend( (rects1[0],rects2[0]), ('Sentiment', 'Emotion') )\n",
    "\n",
    "plt.show()"
   ]
  },
  {
   "cell_type": "code",
   "execution_count": null,
   "id": "ab53a3de-d865-4701-a1d3-fe1b0d138369",
   "metadata": {},
   "outputs": [],
   "source": []
  },
  {
   "cell_type": "code",
   "execution_count": null,
   "id": "1e6da428-7a4f-4769-ab94-dd6e7de9afb5",
   "metadata": {},
   "outputs": [],
   "source": []
  }
 ],
 "metadata": {
  "kernelspec": {
   "display_name": "Python 3 (ipykernel)",
   "language": "python",
   "name": "python3"
  },
  "language_info": {
   "codemirror_mode": {
    "name": "ipython",
    "version": 3
   },
   "file_extension": ".py",
   "mimetype": "text/x-python",
   "name": "python",
   "nbconvert_exporter": "python",
   "pygments_lexer": "ipython3",
   "version": "3.7.11"
  }
 },
 "nbformat": 4,
 "nbformat_minor": 5
}
